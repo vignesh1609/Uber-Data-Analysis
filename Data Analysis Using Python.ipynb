{
 "cells": [
  {
   "cell_type": "markdown",
   "metadata": {},
   "source": [
    "# Data Analysis Using Python"
   ]
  },
  {
   "cell_type": "markdown",
   "metadata": {},
   "source": [
    "For this notebook we are going to analyse the uber dataset which contains details of uber drivers. This dataset helps us to understand the behaviour of an ordinary Uber customer. \n",
    "\n",
    "I will try to do some exploratory data analysis and I will also try to find answers for some questions to uncover insights."
   ]
  },
  {
   "cell_type": "markdown",
   "metadata": {},
   "source": [
    "Importing Necessary Packages"
   ]
  },
  {
   "cell_type": "code",
   "execution_count": 40,
   "metadata": {},
   "outputs": [],
   "source": [
    "import pandas as pd\n",
    "import numpy as np\n",
    "from pylab import *\n",
    "import matplotlib.pyplot as plt"
   ]
  },
  {
   "cell_type": "code",
   "execution_count": 28,
   "metadata": {},
   "outputs": [],
   "source": [
    "df=pd.read_csv('C:\\\\Users\\\\vignesh\\\\Downloads\\\\My Uber Drives - 2016.csv')"
   ]
  },
  {
   "cell_type": "code",
   "execution_count": 29,
   "metadata": {},
   "outputs": [
    {
     "data": {
      "text/plain": [
       "Index(['START_DATE*', 'END_DATE*', 'CATEGORY*', 'START*', 'STOP*', 'MILES*',\n",
       "       'PURPOSE*'],\n",
       "      dtype='object')"
      ]
     },
     "execution_count": 29,
     "metadata": {},
     "output_type": "execute_result"
    }
   ],
   "source": [
    "df.columns #Displaying Column Names"
   ]
  },
  {
   "cell_type": "code",
   "execution_count": 8,
   "metadata": {},
   "outputs": [
    {
     "name": "stdout",
     "output_type": "stream",
     "text": [
      " Shape of the  dataframe is:  (1156, 7)\n"
     ]
    }
   ],
   "source": [
    "## lets explore the shape of dataframe.\n",
    "print(\" Shape of the  dataframe is: \" , df.shape)"
   ]
  },
  {
   "cell_type": "code",
   "execution_count": 9,
   "metadata": {},
   "outputs": [
    {
     "data": {
      "text/html": [
       "<div>\n",
       "<style scoped>\n",
       "    .dataframe tbody tr th:only-of-type {\n",
       "        vertical-align: middle;\n",
       "    }\n",
       "\n",
       "    .dataframe tbody tr th {\n",
       "        vertical-align: top;\n",
       "    }\n",
       "\n",
       "    .dataframe thead th {\n",
       "        text-align: right;\n",
       "    }\n",
       "</style>\n",
       "<table border=\"1\" class=\"dataframe\">\n",
       "  <thead>\n",
       "    <tr style=\"text-align: right;\">\n",
       "      <th></th>\n",
       "      <th>START_DATE*</th>\n",
       "      <th>END_DATE*</th>\n",
       "      <th>CATEGORY*</th>\n",
       "      <th>START*</th>\n",
       "      <th>STOP*</th>\n",
       "      <th>MILES*</th>\n",
       "      <th>PURPOSE*</th>\n",
       "    </tr>\n",
       "  </thead>\n",
       "  <tbody>\n",
       "    <tr>\n",
       "      <th>0</th>\n",
       "      <td>1/1/2016 21:11</td>\n",
       "      <td>1/1/2016 21:17</td>\n",
       "      <td>Business</td>\n",
       "      <td>Fort Pierce</td>\n",
       "      <td>Fort Pierce</td>\n",
       "      <td>5.1</td>\n",
       "      <td>Meal/Entertain</td>\n",
       "    </tr>\n",
       "    <tr>\n",
       "      <th>1</th>\n",
       "      <td>1/2/2016 1:25</td>\n",
       "      <td>1/2/2016 1:37</td>\n",
       "      <td>Business</td>\n",
       "      <td>Fort Pierce</td>\n",
       "      <td>Fort Pierce</td>\n",
       "      <td>5.0</td>\n",
       "      <td>NaN</td>\n",
       "    </tr>\n",
       "    <tr>\n",
       "      <th>2</th>\n",
       "      <td>1/2/2016 20:25</td>\n",
       "      <td>1/2/2016 20:38</td>\n",
       "      <td>Business</td>\n",
       "      <td>Fort Pierce</td>\n",
       "      <td>Fort Pierce</td>\n",
       "      <td>4.8</td>\n",
       "      <td>Errand/Supplies</td>\n",
       "    </tr>\n",
       "    <tr>\n",
       "      <th>3</th>\n",
       "      <td>1/5/2016 17:31</td>\n",
       "      <td>1/5/2016 17:45</td>\n",
       "      <td>Business</td>\n",
       "      <td>Fort Pierce</td>\n",
       "      <td>Fort Pierce</td>\n",
       "      <td>4.7</td>\n",
       "      <td>Meeting</td>\n",
       "    </tr>\n",
       "    <tr>\n",
       "      <th>4</th>\n",
       "      <td>1/6/2016 14:42</td>\n",
       "      <td>1/6/2016 15:49</td>\n",
       "      <td>Business</td>\n",
       "      <td>Fort Pierce</td>\n",
       "      <td>West Palm Beach</td>\n",
       "      <td>63.7</td>\n",
       "      <td>Customer Visit</td>\n",
       "    </tr>\n",
       "  </tbody>\n",
       "</table>\n",
       "</div>"
      ],
      "text/plain": [
       "      START_DATE*       END_DATE* CATEGORY*       START*            STOP*  \\\n",
       "0  1/1/2016 21:11  1/1/2016 21:17  Business  Fort Pierce      Fort Pierce   \n",
       "1   1/2/2016 1:25   1/2/2016 1:37  Business  Fort Pierce      Fort Pierce   \n",
       "2  1/2/2016 20:25  1/2/2016 20:38  Business  Fort Pierce      Fort Pierce   \n",
       "3  1/5/2016 17:31  1/5/2016 17:45  Business  Fort Pierce      Fort Pierce   \n",
       "4  1/6/2016 14:42  1/6/2016 15:49  Business  Fort Pierce  West Palm Beach   \n",
       "\n",
       "   MILES*         PURPOSE*  \n",
       "0     5.1   Meal/Entertain  \n",
       "1     5.0              NaN  \n",
       "2     4.8  Errand/Supplies  \n",
       "3     4.7          Meeting  \n",
       "4    63.7   Customer Visit  "
      ]
     },
     "execution_count": 9,
     "metadata": {},
     "output_type": "execute_result"
    }
   ],
   "source": [
    "# Lets exlore the first 5 rows of dataframe to see sample records.\n",
    "df.head()"
   ]
  },
  {
   "cell_type": "code",
   "execution_count": 10,
   "metadata": {},
   "outputs": [
    {
     "data": {
      "text/html": [
       "<div>\n",
       "<style scoped>\n",
       "    .dataframe tbody tr th:only-of-type {\n",
       "        vertical-align: middle;\n",
       "    }\n",
       "\n",
       "    .dataframe tbody tr th {\n",
       "        vertical-align: top;\n",
       "    }\n",
       "\n",
       "    .dataframe thead th {\n",
       "        text-align: right;\n",
       "    }\n",
       "</style>\n",
       "<table border=\"1\" class=\"dataframe\">\n",
       "  <thead>\n",
       "    <tr style=\"text-align: right;\">\n",
       "      <th></th>\n",
       "      <th>START_DATE*</th>\n",
       "      <th>END_DATE*</th>\n",
       "      <th>CATEGORY*</th>\n",
       "      <th>START*</th>\n",
       "      <th>STOP*</th>\n",
       "      <th>MILES*</th>\n",
       "      <th>PURPOSE*</th>\n",
       "    </tr>\n",
       "  </thead>\n",
       "  <tbody>\n",
       "    <tr>\n",
       "      <th>1151</th>\n",
       "      <td>12/31/2016 13:24</td>\n",
       "      <td>12/31/2016 13:42</td>\n",
       "      <td>Business</td>\n",
       "      <td>Kar?chi</td>\n",
       "      <td>Unknown Location</td>\n",
       "      <td>3.9</td>\n",
       "      <td>Temporary Site</td>\n",
       "    </tr>\n",
       "    <tr>\n",
       "      <th>1152</th>\n",
       "      <td>12/31/2016 15:03</td>\n",
       "      <td>12/31/2016 15:38</td>\n",
       "      <td>Business</td>\n",
       "      <td>Unknown Location</td>\n",
       "      <td>Unknown Location</td>\n",
       "      <td>16.2</td>\n",
       "      <td>Meeting</td>\n",
       "    </tr>\n",
       "    <tr>\n",
       "      <th>1153</th>\n",
       "      <td>12/31/2016 21:32</td>\n",
       "      <td>12/31/2016 21:50</td>\n",
       "      <td>Business</td>\n",
       "      <td>Katunayake</td>\n",
       "      <td>Gampaha</td>\n",
       "      <td>6.4</td>\n",
       "      <td>Temporary Site</td>\n",
       "    </tr>\n",
       "    <tr>\n",
       "      <th>1154</th>\n",
       "      <td>12/31/2016 22:08</td>\n",
       "      <td>12/31/2016 23:51</td>\n",
       "      <td>Business</td>\n",
       "      <td>Gampaha</td>\n",
       "      <td>Ilukwatta</td>\n",
       "      <td>48.2</td>\n",
       "      <td>Temporary Site</td>\n",
       "    </tr>\n",
       "    <tr>\n",
       "      <th>1155</th>\n",
       "      <td>Totals</td>\n",
       "      <td>NaN</td>\n",
       "      <td>NaN</td>\n",
       "      <td>NaN</td>\n",
       "      <td>NaN</td>\n",
       "      <td>12204.7</td>\n",
       "      <td>NaN</td>\n",
       "    </tr>\n",
       "  </tbody>\n",
       "</table>\n",
       "</div>"
      ],
      "text/plain": [
       "           START_DATE*         END_DATE* CATEGORY*            START*  \\\n",
       "1151  12/31/2016 13:24  12/31/2016 13:42  Business           Kar?chi   \n",
       "1152  12/31/2016 15:03  12/31/2016 15:38  Business  Unknown Location   \n",
       "1153  12/31/2016 21:32  12/31/2016 21:50  Business        Katunayake   \n",
       "1154  12/31/2016 22:08  12/31/2016 23:51  Business           Gampaha   \n",
       "1155            Totals               NaN       NaN               NaN   \n",
       "\n",
       "                 STOP*   MILES*        PURPOSE*  \n",
       "1151  Unknown Location      3.9  Temporary Site  \n",
       "1152  Unknown Location     16.2         Meeting  \n",
       "1153           Gampaha      6.4  Temporary Site  \n",
       "1154         Ilukwatta     48.2  Temporary Site  \n",
       "1155               NaN  12204.7             NaN  "
      ]
     },
     "execution_count": 10,
     "metadata": {},
     "output_type": "execute_result"
    }
   ],
   "source": [
    "#exploring last 5 rows\n",
    "df.tail(5)  "
   ]
  },
  {
   "cell_type": "markdown",
   "metadata": {},
   "source": [
    "I can see some missing Values in the datset :) "
   ]
  },
  {
   "cell_type": "code",
   "execution_count": 11,
   "metadata": {},
   "outputs": [
    {
     "data": {
      "text/plain": [
       "START_DATE*      0\n",
       "END_DATE*        1\n",
       "CATEGORY*        1\n",
       "START*           1\n",
       "STOP*            1\n",
       "MILES*           0\n",
       "PURPOSE*       503\n",
       "dtype: int64"
      ]
     },
     "execution_count": 11,
     "metadata": {},
     "output_type": "execute_result"
    }
   ],
   "source": [
    "df.isnull().sum()"
   ]
  },
  {
   "cell_type": "markdown",
   "metadata": {},
   "source": [
    "Only Purpose column has many missing values. In this notebook we are not going deeper in msiing value analysis so dropping the missing data."
   ]
  },
  {
   "cell_type": "code",
   "execution_count": 30,
   "metadata": {},
   "outputs": [],
   "source": [
    "df=df.dropna()"
   ]
  },
  {
   "cell_type": "code",
   "execution_count": 15,
   "metadata": {},
   "outputs": [
    {
     "data": {
      "text/plain": [
       "START_DATE*    0\n",
       "END_DATE*      0\n",
       "CATEGORY*      0\n",
       "START*         0\n",
       "STOP*          0\n",
       "MILES*         0\n",
       "PURPOSE*       0\n",
       "dtype: int64"
      ]
     },
     "execution_count": 15,
     "metadata": {},
     "output_type": "execute_result"
    }
   ],
   "source": [
    "df.isnull().sum()"
   ]
  },
  {
   "cell_type": "markdown",
   "metadata": {},
   "source": [
    "Some Basic methods to explore data :)"
   ]
  },
  {
   "cell_type": "code",
   "execution_count": 16,
   "metadata": {},
   "outputs": [
    {
     "data": {
      "text/html": [
       "<div>\n",
       "<style scoped>\n",
       "    .dataframe tbody tr th:only-of-type {\n",
       "        vertical-align: middle;\n",
       "    }\n",
       "\n",
       "    .dataframe tbody tr th {\n",
       "        vertical-align: top;\n",
       "    }\n",
       "\n",
       "    .dataframe thead th {\n",
       "        text-align: right;\n",
       "    }\n",
       "</style>\n",
       "<table border=\"1\" class=\"dataframe\">\n",
       "  <thead>\n",
       "    <tr style=\"text-align: right;\">\n",
       "      <th></th>\n",
       "      <th>MILES*</th>\n",
       "    </tr>\n",
       "  </thead>\n",
       "  <tbody>\n",
       "    <tr>\n",
       "      <th>count</th>\n",
       "      <td>653.000000</td>\n",
       "    </tr>\n",
       "    <tr>\n",
       "      <th>mean</th>\n",
       "      <td>11.196325</td>\n",
       "    </tr>\n",
       "    <tr>\n",
       "      <th>std</th>\n",
       "      <td>22.986429</td>\n",
       "    </tr>\n",
       "    <tr>\n",
       "      <th>min</th>\n",
       "      <td>0.500000</td>\n",
       "    </tr>\n",
       "    <tr>\n",
       "      <th>25%</th>\n",
       "      <td>3.200000</td>\n",
       "    </tr>\n",
       "    <tr>\n",
       "      <th>50%</th>\n",
       "      <td>6.400000</td>\n",
       "    </tr>\n",
       "    <tr>\n",
       "      <th>75%</th>\n",
       "      <td>10.400000</td>\n",
       "    </tr>\n",
       "    <tr>\n",
       "      <th>max</th>\n",
       "      <td>310.300000</td>\n",
       "    </tr>\n",
       "  </tbody>\n",
       "</table>\n",
       "</div>"
      ],
      "text/plain": [
       "           MILES*\n",
       "count  653.000000\n",
       "mean    11.196325\n",
       "std     22.986429\n",
       "min      0.500000\n",
       "25%      3.200000\n",
       "50%      6.400000\n",
       "75%     10.400000\n",
       "max    310.300000"
      ]
     },
     "execution_count": 16,
     "metadata": {},
     "output_type": "execute_result"
    }
   ],
   "source": [
    "df.describe()## to get the summary stats "
   ]
  },
  {
   "cell_type": "code",
   "execution_count": 17,
   "metadata": {},
   "outputs": [
    {
     "data": {
      "text/plain": [
       "310.3"
      ]
     },
     "execution_count": 17,
     "metadata": {},
     "output_type": "execute_result"
    }
   ],
   "source": [
    "df['MILES*'].max() #to get maximum value in miles column"
   ]
  },
  {
   "cell_type": "code",
   "execution_count": 19,
   "metadata": {},
   "outputs": [
    {
     "data": {
      "text/html": [
       "<div>\n",
       "<style scoped>\n",
       "    .dataframe tbody tr th:only-of-type {\n",
       "        vertical-align: middle;\n",
       "    }\n",
       "\n",
       "    .dataframe tbody tr th {\n",
       "        vertical-align: top;\n",
       "    }\n",
       "\n",
       "    .dataframe thead th {\n",
       "        text-align: right;\n",
       "    }\n",
       "</style>\n",
       "<table border=\"1\" class=\"dataframe\">\n",
       "  <thead>\n",
       "    <tr style=\"text-align: right;\">\n",
       "      <th></th>\n",
       "      <th>START_DATE*</th>\n",
       "      <th>END_DATE*</th>\n",
       "      <th>CATEGORY*</th>\n",
       "      <th>START*</th>\n",
       "      <th>STOP*</th>\n",
       "      <th>MILES*</th>\n",
       "      <th>PURPOSE*</th>\n",
       "    </tr>\n",
       "  </thead>\n",
       "  <tbody>\n",
       "    <tr>\n",
       "      <th>429</th>\n",
       "      <td>6/11/2016 21:45</td>\n",
       "      <td>6/11/2016 22:04</td>\n",
       "      <td>Business</td>\n",
       "      <td>Cary</td>\n",
       "      <td>Durham</td>\n",
       "      <td>10.4</td>\n",
       "      <td>Meeting</td>\n",
       "    </tr>\n",
       "    <tr>\n",
       "      <th>1076</th>\n",
       "      <td>12/20/2016 16:14</td>\n",
       "      <td>12/20/2016 16:24</td>\n",
       "      <td>Business</td>\n",
       "      <td>Islamabad</td>\n",
       "      <td>Islamabad</td>\n",
       "      <td>1.8</td>\n",
       "      <td>Errand/Supplies</td>\n",
       "    </tr>\n",
       "    <tr>\n",
       "      <th>1015</th>\n",
       "      <td>12/2/2016 20:41</td>\n",
       "      <td>12/2/2016 20:48</td>\n",
       "      <td>Business</td>\n",
       "      <td>Cary</td>\n",
       "      <td>Morrisville</td>\n",
       "      <td>3.3</td>\n",
       "      <td>Meal/Entertain</td>\n",
       "    </tr>\n",
       "    <tr>\n",
       "      <th>128</th>\n",
       "      <td>2/19/2016 10:21</td>\n",
       "      <td>2/19/2016 10:48</td>\n",
       "      <td>Business</td>\n",
       "      <td>Unknown Location</td>\n",
       "      <td>Islamabad</td>\n",
       "      <td>7.6</td>\n",
       "      <td>Meeting</td>\n",
       "    </tr>\n",
       "    <tr>\n",
       "      <th>186</th>\n",
       "      <td>3/4/2016 13:03</td>\n",
       "      <td>3/4/2016 13:25</td>\n",
       "      <td>Business</td>\n",
       "      <td>Durham</td>\n",
       "      <td>Cary</td>\n",
       "      <td>10.9</td>\n",
       "      <td>Meeting</td>\n",
       "    </tr>\n",
       "    <tr>\n",
       "      <th>997</th>\n",
       "      <td>11/25/2016 11:47</td>\n",
       "      <td>11/25/2016 12:04</td>\n",
       "      <td>Business</td>\n",
       "      <td>Cary</td>\n",
       "      <td>Durham</td>\n",
       "      <td>10.3</td>\n",
       "      <td>Meeting</td>\n",
       "    </tr>\n",
       "    <tr>\n",
       "      <th>23</th>\n",
       "      <td>1/13/2016 13:54</td>\n",
       "      <td>1/13/2016 14:07</td>\n",
       "      <td>Business</td>\n",
       "      <td>Downtown</td>\n",
       "      <td>Gulfton</td>\n",
       "      <td>11.2</td>\n",
       "      <td>Meeting</td>\n",
       "    </tr>\n",
       "  </tbody>\n",
       "</table>\n",
       "</div>"
      ],
      "text/plain": [
       "           START_DATE*         END_DATE* CATEGORY*            START*  \\\n",
       "429    6/11/2016 21:45   6/11/2016 22:04  Business              Cary   \n",
       "1076  12/20/2016 16:14  12/20/2016 16:24  Business         Islamabad   \n",
       "1015   12/2/2016 20:41   12/2/2016 20:48  Business              Cary   \n",
       "128    2/19/2016 10:21   2/19/2016 10:48  Business  Unknown Location   \n",
       "186     3/4/2016 13:03    3/4/2016 13:25  Business            Durham   \n",
       "997   11/25/2016 11:47  11/25/2016 12:04  Business              Cary   \n",
       "23     1/13/2016 13:54   1/13/2016 14:07  Business          Downtown   \n",
       "\n",
       "            STOP*  MILES*         PURPOSE*  \n",
       "429        Durham    10.4          Meeting  \n",
       "1076    Islamabad     1.8  Errand/Supplies  \n",
       "1015  Morrisville     3.3   Meal/Entertain  \n",
       "128     Islamabad     7.6          Meeting  \n",
       "186          Cary    10.9          Meeting  \n",
       "997        Durham    10.3          Meeting  \n",
       "23        Gulfton    11.2          Meeting  "
      ]
     },
     "execution_count": 19,
     "metadata": {},
     "output_type": "execute_result"
    }
   ],
   "source": [
    "df.sample(7)  #to display random sample records "
   ]
  },
  {
   "cell_type": "code",
   "execution_count": 31,
   "metadata": {},
   "outputs": [
    {
     "data": {
      "text/plain": [
       "START_DATE*     object\n",
       "END_DATE*       object\n",
       "CATEGORY*       object\n",
       "START*          object\n",
       "STOP*           object\n",
       "MILES*         float64\n",
       "PURPOSE*        object\n",
       "dtype: object"
      ]
     },
     "execution_count": 31,
     "metadata": {},
     "output_type": "execute_result"
    }
   ],
   "source": [
    "df.dtypes #to get datatype of each columns"
   ]
  },
  {
   "cell_type": "code",
   "execution_count": 21,
   "metadata": {},
   "outputs": [
    {
     "name": "stdout",
     "output_type": "stream",
     "text": [
      "<class 'pandas.core.frame.DataFrame'>\n",
      "Int64Index: 653 entries, 0 to 1154\n",
      "Data columns (total 7 columns):\n",
      "START_DATE*    653 non-null object\n",
      "END_DATE*      653 non-null object\n",
      "CATEGORY*      653 non-null object\n",
      "START*         653 non-null object\n",
      "STOP*          653 non-null object\n",
      "MILES*         653 non-null float64\n",
      "PURPOSE*       653 non-null object\n",
      "dtypes: float64(1), object(6)\n",
      "memory usage: 40.8+ KB\n"
     ]
    }
   ],
   "source": [
    "df.info()    # to get complete info abput dataframe"
   ]
  },
  {
   "cell_type": "code",
   "execution_count": 69,
   "metadata": {},
   "outputs": [
    {
     "data": {
      "text/html": [
       "<div>\n",
       "<style scoped>\n",
       "    .dataframe tbody tr th:only-of-type {\n",
       "        vertical-align: middle;\n",
       "    }\n",
       "\n",
       "    .dataframe tbody tr th {\n",
       "        vertical-align: top;\n",
       "    }\n",
       "\n",
       "    .dataframe thead th {\n",
       "        text-align: right;\n",
       "    }\n",
       "</style>\n",
       "<table border=\"1\" class=\"dataframe\">\n",
       "  <thead>\n",
       "    <tr style=\"text-align: right;\">\n",
       "      <th></th>\n",
       "      <th>START_DATE*</th>\n",
       "      <th>END_DATE*</th>\n",
       "      <th>CATEGORY*</th>\n",
       "      <th>START*</th>\n",
       "      <th>STOP*</th>\n",
       "      <th>MILES*</th>\n",
       "      <th>PURPOSE*</th>\n",
       "    </tr>\n",
       "  </thead>\n",
       "  <tbody>\n",
       "    <tr>\n",
       "      <th>269</th>\n",
       "      <td>3/25/2016 16:52</td>\n",
       "      <td>3/25/2016 22:22</td>\n",
       "      <td>Business</td>\n",
       "      <td>Latta</td>\n",
       "      <td>Jacksonville</td>\n",
       "      <td>310.3</td>\n",
       "      <td>Customer Visit</td>\n",
       "    </tr>\n",
       "    <tr>\n",
       "      <th>270</th>\n",
       "      <td>3/25/2016 22:54</td>\n",
       "      <td>3/26/2016 1:39</td>\n",
       "      <td>Business</td>\n",
       "      <td>Jacksonville</td>\n",
       "      <td>Kissimmee</td>\n",
       "      <td>201.0</td>\n",
       "      <td>Meeting</td>\n",
       "    </tr>\n",
       "    <tr>\n",
       "      <th>559</th>\n",
       "      <td>7/17/2016 12:20</td>\n",
       "      <td>7/17/2016 15:25</td>\n",
       "      <td>Personal</td>\n",
       "      <td>Boone</td>\n",
       "      <td>Cary</td>\n",
       "      <td>180.2</td>\n",
       "      <td>Commute</td>\n",
       "    </tr>\n",
       "    <tr>\n",
       "      <th>297</th>\n",
       "      <td>4/2/2016 19:38</td>\n",
       "      <td>4/2/2016 22:36</td>\n",
       "      <td>Business</td>\n",
       "      <td>Jacksonville</td>\n",
       "      <td>Ridgeland</td>\n",
       "      <td>174.2</td>\n",
       "      <td>Customer Visit</td>\n",
       "    </tr>\n",
       "    <tr>\n",
       "      <th>299</th>\n",
       "      <td>4/3/2016 2:00</td>\n",
       "      <td>4/3/2016 4:16</td>\n",
       "      <td>Business</td>\n",
       "      <td>Florence</td>\n",
       "      <td>Cary</td>\n",
       "      <td>159.3</td>\n",
       "      <td>Meeting</td>\n",
       "    </tr>\n",
       "    <tr>\n",
       "      <th>268</th>\n",
       "      <td>3/25/2016 13:24</td>\n",
       "      <td>3/25/2016 16:22</td>\n",
       "      <td>Business</td>\n",
       "      <td>Cary</td>\n",
       "      <td>Latta</td>\n",
       "      <td>144.0</td>\n",
       "      <td>Customer Visit</td>\n",
       "    </tr>\n",
       "    <tr>\n",
       "      <th>298</th>\n",
       "      <td>4/2/2016 23:11</td>\n",
       "      <td>4/3/2016 1:34</td>\n",
       "      <td>Business</td>\n",
       "      <td>Ridgeland</td>\n",
       "      <td>Florence</td>\n",
       "      <td>144.0</td>\n",
       "      <td>Meeting</td>\n",
       "    </tr>\n",
       "    <tr>\n",
       "      <th>232</th>\n",
       "      <td>3/17/2016 12:52</td>\n",
       "      <td>3/17/2016 15:11</td>\n",
       "      <td>Business</td>\n",
       "      <td>Austin</td>\n",
       "      <td>Katy</td>\n",
       "      <td>136.0</td>\n",
       "      <td>Customer Visit</td>\n",
       "    </tr>\n",
       "    <tr>\n",
       "      <th>870</th>\n",
       "      <td>10/28/2016 18:13</td>\n",
       "      <td>10/28/2016 20:07</td>\n",
       "      <td>Business</td>\n",
       "      <td>Winston Salem</td>\n",
       "      <td>Asheville</td>\n",
       "      <td>133.6</td>\n",
       "      <td>Meeting</td>\n",
       "    </tr>\n",
       "    <tr>\n",
       "      <th>869</th>\n",
       "      <td>10/28/2016 15:53</td>\n",
       "      <td>10/28/2016 17:59</td>\n",
       "      <td>Business</td>\n",
       "      <td>Cary</td>\n",
       "      <td>Winston Salem</td>\n",
       "      <td>107.0</td>\n",
       "      <td>Meeting</td>\n",
       "    </tr>\n",
       "  </tbody>\n",
       "</table>\n",
       "</div>"
      ],
      "text/plain": [
       "          START_DATE*         END_DATE* CATEGORY*         START*  \\\n",
       "269   3/25/2016 16:52   3/25/2016 22:22  Business          Latta   \n",
       "270   3/25/2016 22:54    3/26/2016 1:39  Business   Jacksonville   \n",
       "559   7/17/2016 12:20   7/17/2016 15:25  Personal          Boone   \n",
       "297    4/2/2016 19:38    4/2/2016 22:36  Business   Jacksonville   \n",
       "299     4/3/2016 2:00     4/3/2016 4:16  Business       Florence   \n",
       "268   3/25/2016 13:24   3/25/2016 16:22  Business           Cary   \n",
       "298    4/2/2016 23:11     4/3/2016 1:34  Business      Ridgeland   \n",
       "232   3/17/2016 12:52   3/17/2016 15:11  Business         Austin   \n",
       "870  10/28/2016 18:13  10/28/2016 20:07  Business  Winston Salem   \n",
       "869  10/28/2016 15:53  10/28/2016 17:59  Business           Cary   \n",
       "\n",
       "             STOP*  MILES*        PURPOSE*  \n",
       "269   Jacksonville   310.3  Customer Visit  \n",
       "270      Kissimmee   201.0         Meeting  \n",
       "559           Cary   180.2         Commute  \n",
       "297      Ridgeland   174.2  Customer Visit  \n",
       "299           Cary   159.3         Meeting  \n",
       "268          Latta   144.0  Customer Visit  \n",
       "298       Florence   144.0         Meeting  \n",
       "232           Katy   136.0  Customer Visit  \n",
       "870      Asheville   133.6         Meeting  \n",
       "869  Winston Salem   107.0         Meeting  "
      ]
     },
     "execution_count": 69,
     "metadata": {},
     "output_type": "execute_result"
    }
   ],
   "source": [
    "df.sort_values(by=['MILES*'],ascending=False).head(10) #Sorting based on miles"
   ]
  },
  {
   "cell_type": "code",
   "execution_count": 70,
   "metadata": {},
   "outputs": [
    {
     "data": {
      "text/html": [
       "<div>\n",
       "<style scoped>\n",
       "    .dataframe tbody tr th:only-of-type {\n",
       "        vertical-align: middle;\n",
       "    }\n",
       "\n",
       "    .dataframe tbody tr th {\n",
       "        vertical-align: top;\n",
       "    }\n",
       "\n",
       "    .dataframe thead th {\n",
       "        text-align: right;\n",
       "    }\n",
       "</style>\n",
       "<table border=\"1\" class=\"dataframe\">\n",
       "  <thead>\n",
       "    <tr style=\"text-align: right;\">\n",
       "      <th></th>\n",
       "      <th>START_DATE*</th>\n",
       "      <th>END_DATE*</th>\n",
       "      <th>CATEGORY*</th>\n",
       "      <th>START*</th>\n",
       "      <th>STOP*</th>\n",
       "      <th>MILES*</th>\n",
       "      <th>PURPOSE*</th>\n",
       "    </tr>\n",
       "  </thead>\n",
       "  <tbody>\n",
       "  </tbody>\n",
       "</table>\n",
       "</div>"
      ],
      "text/plain": [
       "Empty DataFrame\n",
       "Columns: [START_DATE*, END_DATE*, CATEGORY*, START*, STOP*, MILES*, PURPOSE*]\n",
       "Index: []"
      ]
     },
     "execution_count": 70,
     "metadata": {},
     "output_type": "execute_result"
    }
   ],
   "source": [
    "df[df['PURPOSE*'].isnull()] ## displays the rows where purpose is null "
   ]
  },
  {
   "cell_type": "markdown",
   "metadata": {},
   "source": [
    "We have dropped all null values"
   ]
  },
  {
   "cell_type": "markdown",
   "metadata": {},
   "source": [
    "Let's analyse each column separately "
   ]
  },
  {
   "cell_type": "markdown",
   "metadata": {},
   "source": [
    "**1. Start Date**"
   ]
  },
  {
   "cell_type": "code",
   "execution_count": 32,
   "metadata": {},
   "outputs": [],
   "source": [
    "df1=df.copy() #taking copy of dataframe"
   ]
  },
  {
   "cell_type": "code",
   "execution_count": 33,
   "metadata": {},
   "outputs": [],
   "source": [
    "df1[\"START_DATE*\"]=pd.to_datetime(df[\"START_DATE*\"],format=\"%m/%d/%Y %H:%M\") #changing the datatype and format of start date"
   ]
  },
  {
   "cell_type": "code",
   "execution_count": 36,
   "metadata": {},
   "outputs": [
    {
     "name": "stdout",
     "output_type": "stream",
     "text": [
      "<class 'pandas.core.frame.DataFrame'>\n",
      "Int64Index: 653 entries, 0 to 1154\n",
      "Data columns (total 7 columns):\n",
      "START_DATE*    653 non-null datetime64[ns]\n",
      "END_DATE*      653 non-null object\n",
      "CATEGORY*      653 non-null object\n",
      "START*         653 non-null object\n",
      "STOP*          653 non-null object\n",
      "MILES*         653 non-null float64\n",
      "PURPOSE*       653 non-null object\n",
      "dtypes: datetime64[ns](1), float64(1), object(5)\n",
      "memory usage: 40.8+ KB\n"
     ]
    }
   ],
   "source": [
    "df1.info()"
   ]
  },
  {
   "cell_type": "code",
   "execution_count": 37,
   "metadata": {},
   "outputs": [
    {
     "data": {
      "text/html": [
       "<div>\n",
       "<style scoped>\n",
       "    .dataframe tbody tr th:only-of-type {\n",
       "        vertical-align: middle;\n",
       "    }\n",
       "\n",
       "    .dataframe tbody tr th {\n",
       "        vertical-align: top;\n",
       "    }\n",
       "\n",
       "    .dataframe thead th {\n",
       "        text-align: right;\n",
       "    }\n",
       "</style>\n",
       "<table border=\"1\" class=\"dataframe\">\n",
       "  <thead>\n",
       "    <tr style=\"text-align: right;\">\n",
       "      <th></th>\n",
       "      <th>START_DATE*</th>\n",
       "      <th>END_DATE*</th>\n",
       "      <th>CATEGORY*</th>\n",
       "      <th>START*</th>\n",
       "      <th>STOP*</th>\n",
       "      <th>MILES*</th>\n",
       "      <th>PURPOSE*</th>\n",
       "    </tr>\n",
       "  </thead>\n",
       "  <tbody>\n",
       "    <tr>\n",
       "      <th>0</th>\n",
       "      <td>2016-01-01 21:11:00</td>\n",
       "      <td>1/1/2016 21:17</td>\n",
       "      <td>Business</td>\n",
       "      <td>Fort Pierce</td>\n",
       "      <td>Fort Pierce</td>\n",
       "      <td>5.1</td>\n",
       "      <td>Meal/Entertain</td>\n",
       "    </tr>\n",
       "    <tr>\n",
       "      <th>2</th>\n",
       "      <td>2016-01-02 20:25:00</td>\n",
       "      <td>1/2/2016 20:38</td>\n",
       "      <td>Business</td>\n",
       "      <td>Fort Pierce</td>\n",
       "      <td>Fort Pierce</td>\n",
       "      <td>4.8</td>\n",
       "      <td>Errand/Supplies</td>\n",
       "    </tr>\n",
       "    <tr>\n",
       "      <th>3</th>\n",
       "      <td>2016-01-05 17:31:00</td>\n",
       "      <td>1/5/2016 17:45</td>\n",
       "      <td>Business</td>\n",
       "      <td>Fort Pierce</td>\n",
       "      <td>Fort Pierce</td>\n",
       "      <td>4.7</td>\n",
       "      <td>Meeting</td>\n",
       "    </tr>\n",
       "    <tr>\n",
       "      <th>4</th>\n",
       "      <td>2016-01-06 14:42:00</td>\n",
       "      <td>1/6/2016 15:49</td>\n",
       "      <td>Business</td>\n",
       "      <td>Fort Pierce</td>\n",
       "      <td>West Palm Beach</td>\n",
       "      <td>63.7</td>\n",
       "      <td>Customer Visit</td>\n",
       "    </tr>\n",
       "    <tr>\n",
       "      <th>5</th>\n",
       "      <td>2016-01-06 17:15:00</td>\n",
       "      <td>1/6/2016 17:19</td>\n",
       "      <td>Business</td>\n",
       "      <td>West Palm Beach</td>\n",
       "      <td>West Palm Beach</td>\n",
       "      <td>4.3</td>\n",
       "      <td>Meal/Entertain</td>\n",
       "    </tr>\n",
       "  </tbody>\n",
       "</table>\n",
       "</div>"
      ],
      "text/plain": [
       "          START_DATE*       END_DATE* CATEGORY*           START*  \\\n",
       "0 2016-01-01 21:11:00  1/1/2016 21:17  Business      Fort Pierce   \n",
       "2 2016-01-02 20:25:00  1/2/2016 20:38  Business      Fort Pierce   \n",
       "3 2016-01-05 17:31:00  1/5/2016 17:45  Business      Fort Pierce   \n",
       "4 2016-01-06 14:42:00  1/6/2016 15:49  Business      Fort Pierce   \n",
       "5 2016-01-06 17:15:00  1/6/2016 17:19  Business  West Palm Beach   \n",
       "\n",
       "             STOP*  MILES*         PURPOSE*  \n",
       "0      Fort Pierce     5.1   Meal/Entertain  \n",
       "2      Fort Pierce     4.8  Errand/Supplies  \n",
       "3      Fort Pierce     4.7          Meeting  \n",
       "4  West Palm Beach    63.7   Customer Visit  \n",
       "5  West Palm Beach     4.3   Meal/Entertain  "
      ]
     },
     "execution_count": 37,
     "metadata": {},
     "output_type": "execute_result"
    }
   ],
   "source": [
    "df1.head()"
   ]
  },
  {
   "cell_type": "markdown",
   "metadata": {},
   "source": [
    "We can see datatype and format of start date column has been changed"
   ]
  },
  {
   "cell_type": "markdown",
   "metadata": {},
   "source": [
    "**Explore start date by month**"
   ]
  },
  {
   "cell_type": "code",
   "execution_count": 43,
   "metadata": {},
   "outputs": [
    {
     "data": {
      "image/png": "[encoded data removed]",
      "text/plain": [
       "<Figure size 432x288 with 1 Axes>"
      ]
     },
     "metadata": {
      "needs_background": "light"
     },
     "output_type": "display_data"
    }
   ],
   "source": [
    "sd_m_dis=df1[\"START_DATE*\"].dt.month.value_counts()\n",
    "sd_m_dis=sd_m_dis.sort_index()\n",
    "sd_m_mean=sd_m_dis.mean()\n",
    "def autolabel(rects):\n",
    "    for rect in rects:\n",
    "        height = rect.get_height()\n",
    "        plt.text(rect.get_x()+rect.get_width()/2., 1.03*height, '%s' % int(height))\n",
    "figure(0)\n",
    "rects=plt.bar(sd_m_dis.index,sd_m_dis.values)\n",
    "plt.plot([0,len(sd_m_dis.index)+1],[sd_m_mean,sd_m_mean],\"r--\")\n",
    "plt.title(\"START_DATE DISTRIBUTE\")\n",
    "plt.xlabel(\"Month\")\n",
    "plt.ylabel(\"Trips\")\n",
    "plt.grid()\n",
    "autolabel(rects)"
   ]
  },
  {
   "cell_type": "markdown",
   "metadata": {},
   "source": [
    "Driver took more number of rides in the  month of december.Interestingly,there is no ride recorded in september. In April,May,August and october trips are less than the average value."
   ]
  },
  {
   "cell_type": "markdown",
   "metadata": {},
   "source": [
    "**Explore start date by hour**"
   ]
  },
  {
   "cell_type": "code",
   "execution_count": 45,
   "metadata": {},
   "outputs": [
    {
     "data": {
      "image/png": "[encoded data removed]",
      "text/plain": [
       "<Figure size 432x288 with 1 Axes>"
      ]
     },
     "metadata": {
      "needs_background": "light"
     },
     "output_type": "display_data"
    }
   ],
   "source": [
    "sd_h_dis=df1[\"START_DATE*\"].dt.hour.value_counts()\n",
    "sd_h_dis=sd_h_dis.sort_index()\n",
    "sd_h_mean=sd_h_dis.mean()\n",
    "figure(1)\n",
    "rects=plt.bar(sd_h_dis.index,sd_h_dis.values)\n",
    "plt.plot([0,len(sd_h_dis.index)+1],[sd_h_mean,sd_h_mean],\"r--\")\n",
    "plt.title(\"START_DATE(Hours) DISTRIBUTE\")\n",
    "plt.xlabel(\"Hours\")\n",
    "plt.ylabel(\"Trips\")\n",
    "plt.grid()\n",
    "autolabel(rects)"
   ]
  },
  {
   "cell_type": "markdown",
   "metadata": {},
   "source": [
    "Most of the orders are between 10am and 6pm"
   ]
  },
  {
   "cell_type": "markdown",
   "metadata": {},
   "source": [
    "**2.End Date**"
   ]
  },
  {
   "cell_type": "markdown",
   "metadata": {},
   "source": [
    "End date will be similar to start date so we are skipping it :)"
   ]
  },
  {
   "cell_type": "markdown",
   "metadata": {},
   "source": [
    "**3.Category**"
   ]
  },
  {
   "cell_type": "code",
   "execution_count": 54,
   "metadata": {},
   "outputs": [
    {
     "data": {
      "image/png": "[encoded data removed]",
      "text/plain": [
       "<Figure size 432x288 with 1 Axes>"
      ]
     },
     "metadata": {
      "needs_background": "light"
     },
     "output_type": "display_data"
    }
   ],
   "source": [
    "ct_dis=df1[\"CATEGORY*\"].value_counts()\n",
    "figure(2)\n",
    "rects=plt.bar(range(1,len(ct_dis.index)+1),ct_dis.values)\n",
    "plt.title(\"Category DISTRIBUTE\")\n",
    "plt.xlabel(\"Category\")\n",
    "plt.ylabel(\"Quantity\")\n",
    "plt.xticks(range(1,len(ct_dis.index)+1),ct_dis.index)\n",
    "#plt.grid()\n",
    "autolabel(rects)"
   ]
  },
  {
   "cell_type": "markdown",
   "metadata": {},
   "source": [
    "We can see most of trips are business trip. So driver spending most of the time for business work rather than personal work."
   ]
  },
  {
   "cell_type": "markdown",
   "metadata": {},
   "source": [
    "**4.Start**"
   ]
  },
  {
   "cell_type": "code",
   "execution_count": 56,
   "metadata": {},
   "outputs": [
    {
     "name": "stdout",
     "output_type": "stream",
     "text": [
      "Start place:\n",
      " Cary                161\n",
      "Unknown Location     55\n",
      "Morrisville          54\n",
      "Whitebridge          36\n",
      "Durham               30\n",
      "Kar?chi              26\n",
      "Raleigh              21\n",
      "Lahore               19\n",
      "Islamabad            15\n",
      "Apex                 11\n",
      "Name: START*, dtype: int64\n"
     ]
    }
   ],
   "source": [
    "st_dis=df1[\"START*\"].value_counts()\n",
    "st_dis.sort_values(inplace=True,ascending=False)\n",
    "st_dis=st_dis.iloc[:10]\n",
    "print(\"Start place:\\n\",st_dis)"
   ]
  },
  {
   "cell_type": "markdown",
   "metadata": {},
   "source": [
    "Most of the trips are started at CARY"
   ]
  },
  {
   "cell_type": "markdown",
   "metadata": {},
   "source": [
    "**5.Stop**"
   ]
  },
  {
   "cell_type": "code",
   "execution_count": 58,
   "metadata": {},
   "outputs": [
    {
     "name": "stdout",
     "output_type": "stream",
     "text": [
      "STOP_PLACE:\n",
      " Cary                155\n",
      "Morrisville          60\n",
      "Unknown Location     56\n",
      "Whitebridge          37\n",
      "Durham               30\n",
      "Kar?chi              26\n",
      "Raleigh              21\n",
      "Lahore               19\n",
      "Islamabad            14\n",
      "Apex                 11\n",
      "Name: STOP*, dtype: int64\n"
     ]
    }
   ],
   "source": [
    "stp_dis=df[\"STOP*\"].value_counts()\n",
    "stp_dis.sort_values(ascending=False)\n",
    "stp_dis=stp_dis.iloc[:10]\n",
    "print(\"STOP_PLACE:\\n\",stp_dis)"
   ]
  },
  {
   "cell_type": "markdown",
   "metadata": {},
   "source": [
    "We can conclude drivers place is CARY"
   ]
  },
  {
   "cell_type": "code",
   "execution_count": 65,
   "metadata": {},
   "outputs": [
    {
     "name": "stdout",
     "output_type": "stream",
     "text": [
      "Miles:\n",
      " <=5      248\n",
      "5-10     220\n",
      "10-15     96\n",
      ">20       47\n",
      "15-20     42\n",
      "dtype: int64\n"
     ]
    }
   ],
   "source": [
    "ml_dis=df1[\"MILES*\"]\n",
    "ml_range_lst=[\"<=5\",\"5-10\",\"10-15\",\"15-20\",\">20\"]\n",
    "ml_dic=dict()\n",
    "for item in ml_range_lst:\n",
    "    ml_dic[item]=0\n",
    "for mile in ml_dis.values:\n",
    "    if mile<=5:\n",
    "        ml_dic[\"<=5\"]+=1\n",
    "    elif mile<=10:\n",
    "        ml_dic[\"5-10\"]+=1\n",
    "    elif mile<=15:\n",
    "        ml_dic[\"10-15\"]+=1\n",
    "    elif mile<=20:\n",
    "        ml_dic[\"15-20\"]+=1\n",
    "    else:\n",
    "        ml_dic[\">20\"]+=1\n",
    "ml_dis=pd.Series(ml_dic)\n",
    "ml_dis.sort_values(inplace=True,ascending=False)\n",
    "print(\"Miles:\\n\",ml_dis)"
   ]
  },
  {
   "cell_type": "markdown",
   "metadata": {},
   "source": [
    "Driving is picking more shorter distance trips than a longer one. I think he can get more money on shorter trips."
   ]
  },
  {
   "cell_type": "markdown",
   "metadata": {},
   "source": [
    "**6.Purpose**"
   ]
  },
  {
   "cell_type": "code",
   "execution_count": 66,
   "metadata": {},
   "outputs": [
    {
     "name": "stdout",
     "output_type": "stream",
     "text": [
      "PURPOSE:\n",
      " Meeting            187\n",
      "Meal/Entertain     160\n",
      "Errand/Supplies    128\n",
      "Customer Visit     101\n",
      "Temporary Site      50\n",
      "Between Offices     18\n",
      "Moving               4\n",
      "Airport/Travel       3\n",
      "Commute              1\n",
      "Charity ($)          1\n",
      "Name: PURPOSE*, dtype: int64\n"
     ]
    }
   ],
   "source": [
    "pp_dis=df[\"PURPOSE*\"].value_counts()\n",
    "pp_dis.sort_values(ascending=False)\n",
    "pp_dis=pp_dis.iloc[:10]\n",
    "print(\"PURPOSE:\\n\",pp_dis)"
   ]
  },
  {
   "cell_type": "markdown",
   "metadata": {},
   "source": [
    "Meeting and Meal/Entertain purpose has more trips. Surprisingly,Between Offices and airport travel has very less trips."
   ]
  },
  {
   "cell_type": "markdown",
   "metadata": {},
   "source": [
    "**Creating new columns**"
   ]
  },
  {
   "cell_type": "code",
   "execution_count": 71,
   "metadata": {},
   "outputs": [],
   "source": [
    "df1['triptype']=np.where(df1['MILES*']<=df1['MILES*'].mean(),'short','long')"
   ]
  },
  {
   "cell_type": "code",
   "execution_count": 73,
   "metadata": {},
   "outputs": [
    {
     "name": "stdout",
     "output_type": "stream",
     "text": [
      "PURPOSE:\n",
      " short    506\n",
      "long     147\n",
      "Name: triptype, dtype: int64\n"
     ]
    }
   ],
   "source": [
    "trip_type=df1['triptype'].value_counts()\n",
    "trip_type.sort_values(ascending=False)\n",
    "trip_type=trip_type.iloc[:10]\n",
    "print(\"PURPOSE:\\n\",trip_type)"
   ]
  },
  {
   "cell_type": "markdown",
   "metadata": {},
   "source": [
    "We have alresdy identified that there is more number of short trips. Creation of new column can be used for further analysis."
   ]
  },
  {
   "cell_type": "code",
   "execution_count": 74,
   "metadata": {},
   "outputs": [],
   "source": [
    "df1['KMS']=df1['MILES*'].apply(lambda Y :Y*1.6)"
   ]
  },
  {
   "cell_type": "code",
   "execution_count": 75,
   "metadata": {},
   "outputs": [
    {
     "data": {
      "text/html": [
       "<div>\n",
       "<style scoped>\n",
       "    .dataframe tbody tr th:only-of-type {\n",
       "        vertical-align: middle;\n",
       "    }\n",
       "\n",
       "    .dataframe tbody tr th {\n",
       "        vertical-align: top;\n",
       "    }\n",
       "\n",
       "    .dataframe thead th {\n",
       "        text-align: right;\n",
       "    }\n",
       "</style>\n",
       "<table border=\"1\" class=\"dataframe\">\n",
       "  <thead>\n",
       "    <tr style=\"text-align: right;\">\n",
       "      <th></th>\n",
       "      <th>START_DATE*</th>\n",
       "      <th>END_DATE*</th>\n",
       "      <th>CATEGORY*</th>\n",
       "      <th>START*</th>\n",
       "      <th>STOP*</th>\n",
       "      <th>MILES*</th>\n",
       "      <th>PURPOSE*</th>\n",
       "      <th>triptype</th>\n",
       "      <th>KMS</th>\n",
       "    </tr>\n",
       "  </thead>\n",
       "  <tbody>\n",
       "    <tr>\n",
       "      <th>0</th>\n",
       "      <td>2016-01-01 21:11:00</td>\n",
       "      <td>1/1/2016 21:17</td>\n",
       "      <td>Business</td>\n",
       "      <td>Fort Pierce</td>\n",
       "      <td>Fort Pierce</td>\n",
       "      <td>5.1</td>\n",
       "      <td>Meal/Entertain</td>\n",
       "      <td>short</td>\n",
       "      <td>8.16</td>\n",
       "    </tr>\n",
       "    <tr>\n",
       "      <th>2</th>\n",
       "      <td>2016-01-02 20:25:00</td>\n",
       "      <td>1/2/2016 20:38</td>\n",
       "      <td>Business</td>\n",
       "      <td>Fort Pierce</td>\n",
       "      <td>Fort Pierce</td>\n",
       "      <td>4.8</td>\n",
       "      <td>Errand/Supplies</td>\n",
       "      <td>short</td>\n",
       "      <td>7.68</td>\n",
       "    </tr>\n",
       "    <tr>\n",
       "      <th>3</th>\n",
       "      <td>2016-01-05 17:31:00</td>\n",
       "      <td>1/5/2016 17:45</td>\n",
       "      <td>Business</td>\n",
       "      <td>Fort Pierce</td>\n",
       "      <td>Fort Pierce</td>\n",
       "      <td>4.7</td>\n",
       "      <td>Meeting</td>\n",
       "      <td>short</td>\n",
       "      <td>7.52</td>\n",
       "    </tr>\n",
       "    <tr>\n",
       "      <th>4</th>\n",
       "      <td>2016-01-06 14:42:00</td>\n",
       "      <td>1/6/2016 15:49</td>\n",
       "      <td>Business</td>\n",
       "      <td>Fort Pierce</td>\n",
       "      <td>West Palm Beach</td>\n",
       "      <td>63.7</td>\n",
       "      <td>Customer Visit</td>\n",
       "      <td>long</td>\n",
       "      <td>101.92</td>\n",
       "    </tr>\n",
       "    <tr>\n",
       "      <th>5</th>\n",
       "      <td>2016-01-06 17:15:00</td>\n",
       "      <td>1/6/2016 17:19</td>\n",
       "      <td>Business</td>\n",
       "      <td>West Palm Beach</td>\n",
       "      <td>West Palm Beach</td>\n",
       "      <td>4.3</td>\n",
       "      <td>Meal/Entertain</td>\n",
       "      <td>short</td>\n",
       "      <td>6.88</td>\n",
       "    </tr>\n",
       "  </tbody>\n",
       "</table>\n",
       "</div>"
      ],
      "text/plain": [
       "          START_DATE*       END_DATE* CATEGORY*           START*  \\\n",
       "0 2016-01-01 21:11:00  1/1/2016 21:17  Business      Fort Pierce   \n",
       "2 2016-01-02 20:25:00  1/2/2016 20:38  Business      Fort Pierce   \n",
       "3 2016-01-05 17:31:00  1/5/2016 17:45  Business      Fort Pierce   \n",
       "4 2016-01-06 14:42:00  1/6/2016 15:49  Business      Fort Pierce   \n",
       "5 2016-01-06 17:15:00  1/6/2016 17:19  Business  West Palm Beach   \n",
       "\n",
       "             STOP*  MILES*         PURPOSE* triptype     KMS  \n",
       "0      Fort Pierce     5.1   Meal/Entertain    short    8.16  \n",
       "2      Fort Pierce     4.8  Errand/Supplies    short    7.68  \n",
       "3      Fort Pierce     4.7          Meeting    short    7.52  \n",
       "4  West Palm Beach    63.7   Customer Visit     long  101.92  \n",
       "5  West Palm Beach     4.3   Meal/Entertain    short    6.88  "
      ]
     },
     "execution_count": 75,
     "metadata": {},
     "output_type": "execute_result"
    }
   ],
   "source": [
    "df1.head()"
   ]
  },
  {
   "cell_type": "markdown",
   "metadata": {},
   "source": [
    "Created KM column based on miles."
   ]
  },
  {
   "cell_type": "code",
   "execution_count": 79,
   "metadata": {},
   "outputs": [],
   "source": [
    "df1[\"END_DATE*\"]=pd.to_datetime(df1[\"END_DATE*\"],format=\"%m/%d/%Y %H:%M\") #changing the datatype and format of END date\n",
    "#Calculate the duration for the rides\n",
    "df1['Duration'] = df1['END_DATE*'] - df1['START_DATE*']\n",
    "#convert duration to numbers(minutes)\n",
    "df1.loc[:, 'Duration'] = df1['Duration'].apply(lambda x: pd.Timedelta.to_pytimedelta(x).days/(24*60) + pd.Timedelta.to_pytimedelta(x).seconds/60)\n",
    "df1['SpeedMph']=df1['MILES*']/df1['Duration'] #creating speed column"
   ]
  },
  {
   "cell_type": "markdown",
   "metadata": {},
   "source": [
    "We have created speed column from miles and duration columns. This can be used for further analysis."
   ]
  },
  {
   "cell_type": "markdown",
   "metadata": {},
   "source": [
    "**Findings**"
   ]
  },
  {
   "cell_type": "markdown",
   "metadata": {},
   "source": [
    "Based on above analysis we can answer many questions on the dataset. Few are shown below."
   ]
  },
  {
   "cell_type": "markdown",
   "metadata": {},
   "source": [
    "**What is the average length of the trip?**"
   ]
  },
  {
   "cell_type": "code",
   "execution_count": 100,
   "metadata": {},
   "outputs": [
    {
     "name": "stdout",
     "output_type": "stream",
     "text": [
      "Average length of trip in minutes:\n",
      " 23.398162327718225\n"
     ]
    }
   ],
   "source": [
    "print('Average length of trip in minutes:\\n',df1['Duration'].mean())"
   ]
  },
  {
   "cell_type": "markdown",
   "metadata": {},
   "source": [
    "**Whats is average number of rides per month?**"
   ]
  },
  {
   "cell_type": "code",
   "execution_count": 101,
   "metadata": {},
   "outputs": [
    {
     "name": "stdout",
     "output_type": "stream",
     "text": [
      "Trips per month 1      59\n",
      "2      82\n",
      "3      71\n",
      "4      50\n",
      "5      46\n",
      "6      73\n",
      "7      46\n",
      "8      12\n",
      "10     20\n",
      "11     60\n",
      "12    134\n",
      "Name: START_DATE*, dtype: int64\n"
     ]
    }
   ],
   "source": [
    "print('Trips per month', sd_m_dis)"
   ]
  },
  {
   "cell_type": "markdown",
   "metadata": {},
   "source": [
    "**Whats is average number of rides per hour?**"
   ]
  },
  {
   "cell_type": "code",
   "execution_count": 103,
   "metadata": {},
   "outputs": [
    {
     "name": "stdout",
     "output_type": "stream",
     "text": [
      "Trips per hour 0     13\n",
      "1      4\n",
      "2      1\n",
      "3      3\n",
      "5      3\n",
      "6      2\n",
      "7      8\n",
      "8     17\n",
      "9     26\n",
      "10    33\n",
      "11    39\n",
      "12    43\n",
      "13    55\n",
      "14    52\n",
      "15    51\n",
      "16    45\n",
      "17    51\n",
      "18    51\n",
      "19    35\n",
      "20    45\n",
      "21    34\n",
      "22    21\n",
      "23    21\n",
      "Name: START_DATE*, dtype: int64\n"
     ]
    }
   ],
   "source": [
    "print('Trips per hour',sd_h_dis)"
   ]
  },
  {
   "cell_type": "markdown",
   "metadata": {},
   "source": [
    "**Category vs Purpose Vs Miles**"
   ]
  },
  {
   "cell_type": "code",
   "execution_count": 90,
   "metadata": {},
   "outputs": [
    {
     "data": {
      "text/html": [
       "<div>\n",
       "<style scoped>\n",
       "    .dataframe tbody tr th:only-of-type {\n",
       "        vertical-align: middle;\n",
       "    }\n",
       "\n",
       "    .dataframe tbody tr th {\n",
       "        vertical-align: top;\n",
       "    }\n",
       "\n",
       "    .dataframe thead th {\n",
       "        text-align: right;\n",
       "    }\n",
       "</style>\n",
       "<table border=\"1\" class=\"dataframe\">\n",
       "  <thead>\n",
       "    <tr style=\"text-align: right;\">\n",
       "      <th></th>\n",
       "      <th></th>\n",
       "      <th>mean</th>\n",
       "      <th>count</th>\n",
       "      <th>max</th>\n",
       "      <th>min</th>\n",
       "    </tr>\n",
       "    <tr>\n",
       "      <th>CATEGORY*</th>\n",
       "      <th>PURPOSE*</th>\n",
       "      <th></th>\n",
       "      <th></th>\n",
       "      <th></th>\n",
       "      <th></th>\n",
       "    </tr>\n",
       "  </thead>\n",
       "  <tbody>\n",
       "    <tr>\n",
       "      <th rowspan=\"7\" valign=\"top\">Business</th>\n",
       "      <th>Airport/Travel</th>\n",
       "      <td>5.500000</td>\n",
       "      <td>3</td>\n",
       "      <td>7.6</td>\n",
       "      <td>4.1</td>\n",
       "    </tr>\n",
       "    <tr>\n",
       "      <th>Between Offices</th>\n",
       "      <td>10.944444</td>\n",
       "      <td>18</td>\n",
       "      <td>39.2</td>\n",
       "      <td>1.9</td>\n",
       "    </tr>\n",
       "    <tr>\n",
       "      <th>Customer Visit</th>\n",
       "      <td>20.688119</td>\n",
       "      <td>101</td>\n",
       "      <td>310.3</td>\n",
       "      <td>0.8</td>\n",
       "    </tr>\n",
       "    <tr>\n",
       "      <th>Errand/Supplies</th>\n",
       "      <td>3.968750</td>\n",
       "      <td>128</td>\n",
       "      <td>22.3</td>\n",
       "      <td>0.5</td>\n",
       "    </tr>\n",
       "    <tr>\n",
       "      <th>Meal/Entertain</th>\n",
       "      <td>5.698125</td>\n",
       "      <td>160</td>\n",
       "      <td>36.5</td>\n",
       "      <td>0.6</td>\n",
       "    </tr>\n",
       "    <tr>\n",
       "      <th>Meeting</th>\n",
       "      <td>15.247594</td>\n",
       "      <td>187</td>\n",
       "      <td>201.0</td>\n",
       "      <td>0.7</td>\n",
       "    </tr>\n",
       "    <tr>\n",
       "      <th>Temporary Site</th>\n",
       "      <td>10.474000</td>\n",
       "      <td>50</td>\n",
       "      <td>48.2</td>\n",
       "      <td>1.8</td>\n",
       "    </tr>\n",
       "    <tr>\n",
       "      <th rowspan=\"3\" valign=\"top\">Personal</th>\n",
       "      <th>Charity ($)</th>\n",
       "      <td>15.100000</td>\n",
       "      <td>1</td>\n",
       "      <td>15.1</td>\n",
       "      <td>15.1</td>\n",
       "    </tr>\n",
       "    <tr>\n",
       "      <th>Commute</th>\n",
       "      <td>180.200000</td>\n",
       "      <td>1</td>\n",
       "      <td>180.2</td>\n",
       "      <td>180.2</td>\n",
       "    </tr>\n",
       "    <tr>\n",
       "      <th>Moving</th>\n",
       "      <td>4.550000</td>\n",
       "      <td>4</td>\n",
       "      <td>6.1</td>\n",
       "      <td>3.3</td>\n",
       "    </tr>\n",
       "  </tbody>\n",
       "</table>\n",
       "</div>"
      ],
      "text/plain": [
       "                                 mean  count    max    min\n",
       "CATEGORY* PURPOSE*                                        \n",
       "Business  Airport/Travel     5.500000      3    7.6    4.1\n",
       "          Between Offices   10.944444     18   39.2    1.9\n",
       "          Customer Visit    20.688119    101  310.3    0.8\n",
       "          Errand/Supplies    3.968750    128   22.3    0.5\n",
       "          Meal/Entertain     5.698125    160   36.5    0.6\n",
       "          Meeting           15.247594    187  201.0    0.7\n",
       "          Temporary Site    10.474000     50   48.2    1.8\n",
       "Personal  Charity ($)       15.100000      1   15.1   15.1\n",
       "          Commute          180.200000      1  180.2  180.2\n",
       "          Moving             4.550000      4    6.1    3.3"
      ]
     },
     "execution_count": 90,
     "metadata": {},
     "output_type": "execute_result"
    }
   ],
   "source": [
    "df1.groupby(['CATEGORY*','PURPOSE*'])['MILES*'].agg(['mean','count','max','min'])"
   ]
  },
  {
   "cell_type": "markdown",
   "metadata": {},
   "source": [
    "We can see most of the trips are used for business/Meetings trips."
   ]
  },
  {
   "cell_type": "markdown",
   "metadata": {},
   "source": [
    "**Category vs Triptype vs Purpose Vs Speed**"
   ]
  },
  {
   "cell_type": "code",
   "execution_count": 105,
   "metadata": {},
   "outputs": [
    {
     "data": {
      "text/html": [
       "<div>\n",
       "<style scoped>\n",
       "    .dataframe tbody tr th:only-of-type {\n",
       "        vertical-align: middle;\n",
       "    }\n",
       "\n",
       "    .dataframe tbody tr th {\n",
       "        vertical-align: top;\n",
       "    }\n",
       "\n",
       "    .dataframe thead th {\n",
       "        text-align: right;\n",
       "    }\n",
       "</style>\n",
       "<table border=\"1\" class=\"dataframe\">\n",
       "  <thead>\n",
       "    <tr style=\"text-align: right;\">\n",
       "      <th></th>\n",
       "      <th></th>\n",
       "      <th></th>\n",
       "      <th>mean</th>\n",
       "      <th>median</th>\n",
       "      <th>max</th>\n",
       "      <th>min</th>\n",
       "      <th>count</th>\n",
       "    </tr>\n",
       "    <tr>\n",
       "      <th>CATEGORY*</th>\n",
       "      <th>triptype</th>\n",
       "      <th>PURPOSE*</th>\n",
       "      <th></th>\n",
       "      <th></th>\n",
       "      <th></th>\n",
       "      <th></th>\n",
       "      <th></th>\n",
       "    </tr>\n",
       "  </thead>\n",
       "  <tbody>\n",
       "    <tr>\n",
       "      <th rowspan=\"13\" valign=\"top\">Business</th>\n",
       "      <th rowspan=\"6\" valign=\"top\">long</th>\n",
       "      <th>Between Offices</th>\n",
       "      <td>27.364412</td>\n",
       "      <td>25.278325</td>\n",
       "      <td>45.555556</td>\n",
       "      <td>13.358491</td>\n",
       "      <td>10</td>\n",
       "    </tr>\n",
       "    <tr>\n",
       "      <th>Customer Visit</th>\n",
       "      <td>41.010233</td>\n",
       "      <td>37.607143</td>\n",
       "      <td>103.578947</td>\n",
       "      <td>14.653846</td>\n",
       "      <td>37</td>\n",
       "    </tr>\n",
       "    <tr>\n",
       "      <th>Errand/Supplies</th>\n",
       "      <td>27.889604</td>\n",
       "      <td>23.473684</td>\n",
       "      <td>45.789474</td>\n",
       "      <td>21.346154</td>\n",
       "      <td>5</td>\n",
       "    </tr>\n",
       "    <tr>\n",
       "      <th>Meal/Entertain</th>\n",
       "      <td>33.718540</td>\n",
       "      <td>30.750000</td>\n",
       "      <td>71.000000</td>\n",
       "      <td>17.833333</td>\n",
       "      <td>13</td>\n",
       "    </tr>\n",
       "    <tr>\n",
       "      <th>Meeting</th>\n",
       "      <td>33.582243</td>\n",
       "      <td>28.363636</td>\n",
       "      <td>91.500000</td>\n",
       "      <td>7.727273</td>\n",
       "      <td>71</td>\n",
       "    </tr>\n",
       "    <tr>\n",
       "      <th>Temporary Site</th>\n",
       "      <td>38.824811</td>\n",
       "      <td>27.600000</td>\n",
       "      <td>176.250000</td>\n",
       "      <td>18.142857</td>\n",
       "      <td>17</td>\n",
       "    </tr>\n",
       "    <tr>\n",
       "      <th rowspan=\"7\" valign=\"top\">short</th>\n",
       "      <th>Airport/Travel</th>\n",
       "      <td>13.531575</td>\n",
       "      <td>15.724138</td>\n",
       "      <td>16.400000</td>\n",
       "      <td>8.470588</td>\n",
       "      <td>3</td>\n",
       "    </tr>\n",
       "    <tr>\n",
       "      <th>Between Offices</th>\n",
       "      <td>23.446043</td>\n",
       "      <td>24.705882</td>\n",
       "      <td>31.000000</td>\n",
       "      <td>12.631579</td>\n",
       "      <td>8</td>\n",
       "    </tr>\n",
       "    <tr>\n",
       "      <th>Customer Visit</th>\n",
       "      <td>24.099109</td>\n",
       "      <td>19.937500</td>\n",
       "      <td>228.000000</td>\n",
       "      <td>9.600000</td>\n",
       "      <td>64</td>\n",
       "    </tr>\n",
       "    <tr>\n",
       "      <th>Errand/Supplies</th>\n",
       "      <td>19.121037</td>\n",
       "      <td>18.000000</td>\n",
       "      <td>67.500000</td>\n",
       "      <td>6.000000</td>\n",
       "      <td>123</td>\n",
       "    </tr>\n",
       "    <tr>\n",
       "      <th>Meal/Entertain</th>\n",
       "      <td>20.702340</td>\n",
       "      <td>18.750000</td>\n",
       "      <td>64.500000</td>\n",
       "      <td>6.000000</td>\n",
       "      <td>147</td>\n",
       "    </tr>\n",
       "    <tr>\n",
       "      <th>Meeting</th>\n",
       "      <td>25.462691</td>\n",
       "      <td>25.500000</td>\n",
       "      <td>85.200000</td>\n",
       "      <td>6.000000</td>\n",
       "      <td>116</td>\n",
       "    </tr>\n",
       "    <tr>\n",
       "      <th>Temporary Site</th>\n",
       "      <td>24.170303</td>\n",
       "      <td>22.800000</td>\n",
       "      <td>118.800000</td>\n",
       "      <td>7.950000</td>\n",
       "      <td>33</td>\n",
       "    </tr>\n",
       "    <tr>\n",
       "      <th rowspan=\"3\" valign=\"top\">Personal</th>\n",
       "      <th rowspan=\"2\" valign=\"top\">long</th>\n",
       "      <th>Charity ($)</th>\n",
       "      <td>33.555556</td>\n",
       "      <td>33.555556</td>\n",
       "      <td>33.555556</td>\n",
       "      <td>33.555556</td>\n",
       "      <td>1</td>\n",
       "    </tr>\n",
       "    <tr>\n",
       "      <th>Commute</th>\n",
       "      <td>58.443243</td>\n",
       "      <td>58.443243</td>\n",
       "      <td>58.443243</td>\n",
       "      <td>58.443243</td>\n",
       "      <td>1</td>\n",
       "    </tr>\n",
       "    <tr>\n",
       "      <th>short</th>\n",
       "      <th>Moving</th>\n",
       "      <td>18.388393</td>\n",
       "      <td>17.812500</td>\n",
       "      <td>20.500000</td>\n",
       "      <td>17.428571</td>\n",
       "      <td>4</td>\n",
       "    </tr>\n",
       "  </tbody>\n",
       "</table>\n",
       "</div>"
      ],
      "text/plain": [
       "                                         mean     median         max  \\\n",
       "CATEGORY* triptype PURPOSE*                                            \n",
       "Business  long     Between Offices  27.364412  25.278325   45.555556   \n",
       "                   Customer Visit   41.010233  37.607143  103.578947   \n",
       "                   Errand/Supplies  27.889604  23.473684   45.789474   \n",
       "                   Meal/Entertain   33.718540  30.750000   71.000000   \n",
       "                   Meeting          33.582243  28.363636   91.500000   \n",
       "                   Temporary Site   38.824811  27.600000  176.250000   \n",
       "          short    Airport/Travel   13.531575  15.724138   16.400000   \n",
       "                   Between Offices  23.446043  24.705882   31.000000   \n",
       "                   Customer Visit   24.099109  19.937500  228.000000   \n",
       "                   Errand/Supplies  19.121037  18.000000   67.500000   \n",
       "                   Meal/Entertain   20.702340  18.750000   64.500000   \n",
       "                   Meeting          25.462691  25.500000   85.200000   \n",
       "                   Temporary Site   24.170303  22.800000  118.800000   \n",
       "Personal  long     Charity ($)      33.555556  33.555556   33.555556   \n",
       "                   Commute          58.443243  58.443243   58.443243   \n",
       "          short    Moving           18.388393  17.812500   20.500000   \n",
       "\n",
       "                                          min  count  \n",
       "CATEGORY* triptype PURPOSE*                           \n",
       "Business  long     Between Offices  13.358491     10  \n",
       "                   Customer Visit   14.653846     37  \n",
       "                   Errand/Supplies  21.346154      5  \n",
       "                   Meal/Entertain   17.833333     13  \n",
       "                   Meeting           7.727273     71  \n",
       "                   Temporary Site   18.142857     17  \n",
       "          short    Airport/Travel    8.470588      3  \n",
       "                   Between Offices  12.631579      8  \n",
       "                   Customer Visit    9.600000     64  \n",
       "                   Errand/Supplies   6.000000    123  \n",
       "                   Meal/Entertain    6.000000    147  \n",
       "                   Meeting           6.000000    116  \n",
       "                   Temporary Site    7.950000     33  \n",
       "Personal  long     Charity ($)      33.555556      1  \n",
       "                   Commute          58.443243      1  \n",
       "          short    Moving           17.428571      4  "
      ]
     },
     "execution_count": 105,
     "metadata": {},
     "output_type": "execute_result"
    }
   ],
   "source": [
    "df1.groupby(['CATEGORY*','triptype','PURPOSE*'])['SpeedMph'].agg(['mean','median','max','min','count'])"
   ]
  }
 ],
 "metadata": {
  "kernelspec": {
   "display_name": "Python 3",
   "language": "python",
   "name": "python3"
  },
  "language_info": {
   "codemirror_mode": {
    "name": "ipython",
    "version": 3
   },
   "file_extension": ".py",
   "mimetype": "text/x-python",
   "name": "python",
   "nbconvert_exporter": "python",
   "pygments_lexer": "ipython3",
   "version": "3.7.3"
  }
 },
 "nbformat": 4,
 "nbformat_minor": 4
}
